{
  "cells": [
    {
      "cell_type": "markdown",
      "metadata": {
        "id": "759SG4TyfbUn"
      },
      "source": [
        "# **Maestría en Inteligencia Artificial Aplicada**\n",
        "## **Curso: Procesamiento de Lenguaje Natural (NLP)**\n",
        "### Tecnológico de Monterrey\n",
        "### Prof Luis Eduardo Falcón Morales\n",
        "\n",
        "## **Adtividad de la Semana 02**\n",
        "### **Introducción al procesamiento de texto.**"
      ]
    },
    {
      "cell_type": "markdown",
      "metadata": {},
      "source": [
        "### **Nombre del estudiante: Alexandro Mayoral Terán**\n",
        "\n",
        "### **Matrícula: A01795899**"
      ]
    },
    {
      "cell_type": "markdown",
      "metadata": {
        "id": "6ue1YAKx3XDo"
      },
      "source": [
        "En esta actividad deberás utilizar los datos del siguiente archivo que se encuentra en Canvas:\n",
        "\n",
        "MNA_NLP_semana_02_Actividad_datos.txt\n",
        "\n",
        "El archivo contiene comentarios en inglés sobre servicios de comida de la página de Yelp: https://www.yelp.com/ . \n",
        "\n",
        "Son mil comentarios y forman parte del conjunto de datos que se encuentra en el Machine Learning Repository de la UCI, llamado \"Sentiment Labelled Sentences\": https://archive.ics.uci.edu/ml/datasets/Sentiment+Labelled+Sentences#\n"
      ]
    },
    {
      "cell_type": "markdown",
      "metadata": {
        "id": "Zj-h4drXD-X9"
      },
      "source": [
        "# **Parte 1. Cargamos los datos.**   "
      ]
    },
    {
      "cell_type": "markdown",
      "metadata": {
        "id": "BY6yifxscfrx"
      },
      "source": [
        "Cargar los datos del archivo indicado y obtener una lista de longitud de 1000 strings/comentarios. \n",
        "\n",
        "Por el momento solamente requerimos las bibliotecas de Numpy y re, para el manejo de los arreglos y de las expresiones regulares en Python.\n",
        "\n",
        "En particular, no necesitarás en esta actividad la biblioteca de Pandas.\n",
        "\n",
        "### **NOTA: En esta actividad no debes importar nada más, con estas dos bibliotecas será *suficiente*.**"
      ]
    },
    {
      "cell_type": "code",
      "execution_count": 1,
      "metadata": {
        "id": "OJ26dAfhdFnf"
      },
      "outputs": [],
      "source": [
        "import numpy as np    # importamos Numpy para el manejo de los arreglos.\n",
        "import re             # importamos re para el manejo de las expresiones regulares."
      ]
    },
    {
      "cell_type": "code",
      "execution_count": 4,
      "metadata": {
        "id": "QHUmJyjDdGNP"
      },
      "outputs": [],
      "source": [
        "# Ejecuta las siguientes instrucciones para cargar la información del achivo dado:\n",
        "with open('MNA_NLP_semana_02_Actividad_datos.txt',        # puedes actualizar la ruta a tu archivo, en dado caso.\n",
        "          mode='r',     # abrimos el archivo en modo lectura.\n",
        "          ) as f:\n",
        "    docs = f.readlines()    # separamos cada comentario por líneas\n",
        "\n",
        "f.close()  # ya que tenemos la información en la variable docs, cerramos el archivo"
      ]
    },
    {
      "cell_type": "code",
      "execution_count": 5,
      "metadata": {
        "id": "L6WzrSrodG-Y"
      },
      "outputs": [
        {
          "data": {
            "text/plain": [
              "True"
            ]
          },
          "execution_count": 5,
          "metadata": {},
          "output_type": "execute_result"
        }
      ],
      "source": [
        "type(docs) == list   # Verifica que tu variable \"docs\" es una lista"
      ]
    },
    {
      "cell_type": "code",
      "execution_count": 6,
      "metadata": {
        "id": "QIK1u9WS2FtS"
      },
      "outputs": [
        {
          "data": {
            "text/plain": [
              "True"
            ]
          },
          "execution_count": 6,
          "metadata": {},
          "output_type": "execute_result"
        }
      ],
      "source": [
        "len(docs)==1000  # verifica que la longitud de \"docs\" es de mil comentarios."
      ]
    },
    {
      "cell_type": "code",
      "execution_count": 7,
      "metadata": {
        "id": "9AMLIfQvJqNZ"
      },
      "outputs": [
        {
          "data": {
            "text/plain": [
              "['Wow... Loved this place.\\n',\n",
              " 'Crust is not good.\\n',\n",
              " 'Not tasty and the texture was just nasty.\\n',\n",
              " 'Stopped by during the late May bank holiday off Rick Steve recommendation and loved it.\\n',\n",
              " 'The selection on the menu was great and so were the prices.\\n',\n",
              " 'Now I am getting angry and I want my damn pho.\\n',\n",
              " \"Honeslty it didn't taste THAT fresh.)\\n\",\n",
              " 'The potatoes were like rubber and you could tell they had been made up ahead of time being kept under a warmer.\\n',\n",
              " 'The fries were great too.\\n',\n",
              " 'A great touch.\\n']"
            ]
          },
          "execution_count": 7,
          "metadata": {},
          "output_type": "execute_result"
        }
      ],
      "source": [
        "docs[0:10]     # observa algunos de los primeros comentarios"
      ]
    },
    {
      "cell_type": "markdown",
      "metadata": {
        "id": "k_ewoagic5jc"
      },
      "source": [
        "# **Parte 2: sección de preguntas (regex).**   \n"
      ]
    },
    {
      "cell_type": "markdown",
      "metadata": {
        "id": "X-eMJa3DFCIV"
      },
      "source": [
        "## **Instrucciones:**\n",
        "\n",
        "### **A continuación deberás contestar cada una de las preguntas que te piden usando expresiones regulares (regex).**\n",
        "\n",
        "### **Por el momento no hay restricción en cuanto al número de líneas de código que agregues, pero trata de incluir las mínimas posibles.**"
      ]
    },
    {
      "cell_type": "markdown",
      "metadata": {
        "id": "78nJMemzn5a5"
      },
      "source": [
        "*   **Pregunta 1.** \n",
        "\n",
        "Busca y elimina todos los saltos de línea '\\n' que se encuentran al final de cada comentario. \n",
        "\n",
        "Una vez finalizado, imprime los primeros 10 comentarios del resultado obtenido.\n"
      ]
    },
    {
      "cell_type": "code",
      "execution_count": 8,
      "metadata": {
        "id": "PwbYYIuZn8pE"
      },
      "outputs": [
        {
          "data": {
            "text/plain": [
              "['Wow... Loved this place.',\n",
              " 'Crust is not good.',\n",
              " 'Not tasty and the texture was just nasty.',\n",
              " 'Stopped by during the late May bank holiday off Rick Steve recommendation and loved it.',\n",
              " 'The selection on the menu was great and so were the prices.',\n",
              " 'Now I am getting angry and I want my damn pho.',\n",
              " \"Honeslty it didn't taste THAT fresh.)\",\n",
              " 'The potatoes were like rubber and you could tell they had been made up ahead of time being kept under a warmer.',\n",
              " 'The fries were great too.',\n",
              " 'A great touch.']"
            ]
          },
          "execution_count": 8,
          "metadata": {},
          "output_type": "execute_result"
        }
      ],
      "source": [
        "docs = [comment.rstrip('\\n') for comment in docs]\n",
        "docs[0:10]"
      ]
    },
    {
      "cell_type": "code",
      "execution_count": null,
      "metadata": {
        "id": "j-0qeh2Jn8l1"
      },
      "outputs": [],
      "source": []
    },
    {
      "cell_type": "markdown",
      "metadata": {
        "id": "VWeKQC93ctEo"
      },
      "source": [
        "*   **Pregunta 2.**  \n",
        "\n",
        "Busca e imprime todas las palabras que terminan con dos o más signos de admiración seguidos, por ejemplo \"!!!\". \n",
        "\n",
        "Debes imprimir tanto la palabra como la totalidad de signos de admiración que le siguen. \n",
        "\n",
        "Indica cuántos resultados obtuviste.\n",
        "\n"
      ]
    },
    {
      "cell_type": "code",
      "execution_count": 37,
      "metadata": {},
      "outputs": [
        {
          "name": "stdout",
          "output_type": "stream",
          "text": [
            "['Firehouse!!!!!', 'APPETIZERS!!!', 'amazing!!!', 'buffet!!!', 'good!!', 'it!!!!', 'DELICIOUS!!', 'amazing!!', 'shawarrrrrrma!!!!!!', 'yucky!!!']\n",
            "Total encontrados: 22\n"
          ]
        }
      ],
      "source": [
        "# Encontramos las palabras que terminan en 2 o más signos de admiración\n",
        "matches = [\n",
        "    match \n",
        "    for comment in docs \n",
        "    for match in re.findall(r'\\w+!{2,}(?:\\s|$)', comment)\n",
        "]\n",
        "print(matches[:10])\n",
        "print(f'Total encontrados: {len(matches)}')"
      ]
    },
    {
      "cell_type": "code",
      "execution_count": null,
      "metadata": {
        "id": "SPVM1MCWdH6Z"
      },
      "outputs": [],
      "source": []
    },
    {
      "cell_type": "markdown",
      "metadata": {
        "id": "-s3okBqL96TT"
      },
      "source": [
        "*   **Pregunta 3.**  \n",
        "\n",
        "Busca e imprime todas las palabras que están escritas totalmente en mayúsculas. Cada coincidencia debe ser una sola palabra.\n",
        "\n",
        "Indica cuántas palabras encontraste.\n",
        "\n"
      ]
    },
    {
      "cell_type": "code",
      "execution_count": 38,
      "metadata": {
        "id": "yKHJkZKo_nW5"
      },
      "outputs": [
        {
          "name": "stdout",
          "output_type": "stream",
          "text": [
            "['THAT', 'APPETIZERS', 'WILL', 'NEVER', 'EVER', 'STEP', 'FORWARD', 'IN', 'IT', 'AGAIN']\n",
            "Total encontrados: 96\n"
          ]
        }
      ],
      "source": [
        "# docs_test = ['Everything WAS AMAZING', 'I hi!!!']\n",
        "matches = [\n",
        "    match \n",
        "    for comment in docs \n",
        "    for match in re.findall(r'\\b[A-Z]{2,}\\b', comment)\n",
        "]\n",
        "print(matches[:10])\n",
        "print(f'Total encontrados: {len(matches)}')"
      ]
    },
    {
      "cell_type": "code",
      "execution_count": null,
      "metadata": {
        "id": "L3q08aq69sNn"
      },
      "outputs": [],
      "source": []
    },
    {
      "cell_type": "markdown",
      "metadata": {
        "id": "GX8eYyDoMZma"
      },
      "source": [
        "*   **Pregunta 4.**  \n",
        "\n",
        "Busca e imprime los comentarios en donde todos los caracteres alfabéticos (letras) están en mayúsculas. \n",
        "\n",
        "Cada coincidencia encontrada debe ser todo el comentario/enunciado.\n",
        "\n",
        "Indica cuántos resultados obtuviste.\n"
      ]
    },
    {
      "cell_type": "code",
      "execution_count": 39,
      "metadata": {
        "id": "K8VuZxvTMYj6"
      },
      "outputs": [
        {
          "name": "stdout",
          "output_type": "stream",
          "text": [
            "['DELICIOUS!!', 'RUDE & INCONSIDERATE MANAGEMENT.', 'WILL NEVER EVER GO BACK AND HAVE TOLD MANY PEOPLE WHAT HAD HAPPENED.', 'TOTAL WASTE OF TIME.', 'AVOID THIS ESTABLISHMENT!']\n",
            "Total encontrados: 5\n"
          ]
        }
      ],
      "source": [
        "matches = [\n",
        "    match \n",
        "    for comment in docs \n",
        "    for match in re.findall(r'^[^a-z]*$', comment)\n",
        "]\n",
        "print(matches[:10])\n",
        "print(f'Total encontrados: {len(matches)}')"
      ]
    },
    {
      "cell_type": "code",
      "execution_count": null,
      "metadata": {
        "id": "PmKgX7sCMcDx"
      },
      "outputs": [],
      "source": []
    },
    {
      "cell_type": "markdown",
      "metadata": {
        "id": "a1i6qv7-McmU"
      },
      "source": [
        "*   **Pregunta 5.**  \n",
        "\n",
        "Busca e imprime todas las palabras que tengan una vocal acentuada, del tipo á, é, í, ó, ú. \n",
        "\n",
        "Indica cuántos resultados obtuviste."
      ]
    },
    {
      "cell_type": "code",
      "execution_count": 40,
      "metadata": {
        "id": "nZZ5zKUOMeGD"
      },
      "outputs": [
        {
          "name": "stdout",
          "output_type": "stream",
          "text": [
            "['fiancé', 'Café', 'puréed']\n",
            "Total encontrados: 3\n"
          ]
        }
      ],
      "source": [
        "matches = [\n",
        "    match \n",
        "    for comment in docs \n",
        "    for match in re.findall(r'\\b\\w*[áéíóúÁÉÍÓÚ]\\w*\\b', comment)\n",
        "]\n",
        "print(matches[:10])\n",
        "print(f'Total encontrados: {len(matches)}')"
      ]
    },
    {
      "cell_type": "code",
      "execution_count": null,
      "metadata": {
        "id": "l1mFvUEZMe8s"
      },
      "outputs": [],
      "source": []
    },
    {
      "cell_type": "markdown",
      "metadata": {
        "id": "ZmPiAI82Mfb3"
      },
      "source": [
        "*   **Pregunta 6.**  \n",
        "\n",
        "Busca e imprime todas las cantidades numéricas monetarias, enteras o con decimales, que inician con el símbolo $\\$$. \n",
        "\n",
        "Indica cuántos resultados obtuviste."
      ]
    },
    {
      "cell_type": "code",
      "execution_count": 41,
      "metadata": {
        "id": "6vhe9-Y-MhL9"
      },
      "outputs": [
        {
          "name": "stdout",
          "output_type": "stream",
          "text": [
            "['$20', '$4.00', '$17', '$3', '$35', '$7.85', '$12', '$11.99']\n",
            "Total encontrados: 8\n"
          ]
        }
      ],
      "source": [
        "matches = [\n",
        "    match \n",
        "    for comment in docs \n",
        "    for match in re.findall(r'\\$\\d+(?:\\.\\d{1,2})?', comment)\n",
        "]\n",
        "print(matches[:10])\n",
        "print(f'Total encontrados: {len(matches)}')"
      ]
    },
    {
      "cell_type": "code",
      "execution_count": null,
      "metadata": {
        "id": "_t0a5xWDMhQ5"
      },
      "outputs": [],
      "source": []
    },
    {
      "cell_type": "markdown",
      "metadata": {
        "id": "2j-HpvhwMhq2"
      },
      "source": [
        "*   **Pregunta 7.**  \n",
        "\n",
        "Busca e imprime todas las palabras que sean variantes de la palabra \"love\", sin importar si incluyen mayúsculas o minúsculas, o la manera en que esté conjugada o alguna otra variación que se haga con dicha palabra.\n",
        "\n",
        "Indica cuántos resultados obtuviste."
      ]
    },
    {
      "cell_type": "code",
      "execution_count": 42,
      "metadata": {
        "id": "kqqyRChVMjol"
      },
      "outputs": [
        {
          "name": "stdout",
          "output_type": "stream",
          "text": [
            "['Loved', 'loved', 'Loved', 'love', 'loves', 'LOVED', 'lovers', 'loving', 'love', 'lovers']\n",
            "Total encontrados: 36\n"
          ]
        }
      ],
      "source": [
        "matches = [\n",
        "    match \n",
        "    for comment in docs \n",
        "    for match in re.findall(r'\\blov\\w*\\b', comment, flags=re.IGNORECASE)\n",
        "]\n",
        "print(matches[:10])\n",
        "print(f'Total encontrados: {len(matches)}')"
      ]
    },
    {
      "cell_type": "code",
      "execution_count": null,
      "metadata": {
        "id": "UXd0VQluMj_x"
      },
      "outputs": [],
      "source": []
    },
    {
      "cell_type": "markdown",
      "metadata": {
        "id": "Ctb-NTY3MkYG"
      },
      "source": [
        "*   **Pregunta 8.**  \n",
        "\n",
        "Busca e imprime todas las palabras, variantes de \"so\" y \"good\", que tengan dos o más \"o\" en \"so\" y 3 o más \"o\" en good. \n",
        "\n",
        "Indica cuántas encontraste.\n"
      ]
    },
    {
      "cell_type": "code",
      "execution_count": 43,
      "metadata": {
        "id": "A8Nf3B_cMlqg"
      },
      "outputs": [
        {
          "name": "stdout",
          "output_type": "stream",
          "text": [
            "['soooo', 'soooooo', 'soooo']\n",
            "Total encontrados: 3\n"
          ]
        }
      ],
      "source": [
        "# docs_test = ['goood', 'so', 'soo', 'alsooo', 'gooooodbye', 'Food was so gooodd.']\n",
        "matches = [\n",
        "    match \n",
        "    for comment in docs \n",
        "    for match in re.findall(r'\\bso{2,}\\b\\.*|\\bgo{3,}d\\.*\\b', comment)\n",
        "]\n",
        "print(matches[:10])\n",
        "print(f'Total encontrados: {len(matches)}')"
      ]
    },
    {
      "cell_type": "code",
      "execution_count": null,
      "metadata": {
        "id": "svS4-vvPMl6f"
      },
      "outputs": [],
      "source": []
    },
    {
      "cell_type": "markdown",
      "metadata": {
        "id": "hkak1opjMmlk"
      },
      "source": [
        "*   **Pregunta 9.**  \n",
        "\n",
        "Busca e imprime todas las palabras que tengan una longitud mayor estrictamente a 10 caracteres alfabéticos.\n",
        "\n",
        "No se consideran los signos de puntuación o caracteres especiales en la longitud de estas cadenas, solo caracteres alfabéticos en mayúsculas o minúsculas.\n",
        "\n",
        "Indica la cantidad de palabras encontradas.\n"
      ]
    },
    {
      "cell_type": "code",
      "execution_count": 44,
      "metadata": {
        "id": "PYxdp3uhMoD0"
      },
      "outputs": [
        {
          "name": "stdout",
          "output_type": "stream",
          "text": [
            "['recommendation', 'recommended', 'overwhelmed', 'inexpensive', 'establishment', 'imaginative', 'opportunity', 'experiencing', 'underwhelming', 'relationship']\n",
            "Total encontrados: 141\n"
          ]
        }
      ],
      "source": [
        "matches = [\n",
        "    match \n",
        "    for comment in docs \n",
        "    for match in re.findall(r'\\b[a-zA-Z]{11,}\\b', comment)\n",
        "]\n",
        "print(matches[:10])\n",
        "print(f'Total encontrados: {len(matches)}')"
      ]
    },
    {
      "cell_type": "code",
      "execution_count": null,
      "metadata": {
        "id": "BR7e2F4FMof-"
      },
      "outputs": [],
      "source": []
    },
    {
      "cell_type": "markdown",
      "metadata": {
        "id": "ApjTNzSxMpDc"
      },
      "source": [
        "*   **Pregunta 10.**  \n",
        "\n",
        "Busca e imprime todas las palabras que inician con una letra mayúscula y terminan con una minúscula, pero que además no sea la primera palabra del comentario/string. \n",
        "\n",
        "Indica la cantidad de resultados obtenidos."
      ]
    },
    {
      "cell_type": "code",
      "execution_count": 50,
      "metadata": {
        "id": "Vb0ndRGAMqdL"
      },
      "outputs": [
        {
          "name": "stdout",
          "output_type": "stream",
          "text": [
            "['Loved', 'May', 'Rick', 'Steve', 'Cape', 'Cod', 'Vegas', 'Burrittos', 'Blah', 'The']\n",
            "Total encontrados: 267\n"
          ]
        }
      ],
      "source": [
        "# docs_test = ['Now I am getting angry and I want my damn pho.', '\"I tried the Cape Cod ravoli, chicken,with cranberry...mmmm!\"', 'Stopped by during the late May bank holiday off Rick Steve recommendation and loved it.']\n",
        "matches = []\n",
        "\n",
        "for comment in docs:\n",
        "    # Extraemos las palabras con letras únicamente\n",
        "    words = re.findall(r'\\b[A-Za-z]+\\b', comment)\n",
        "\n",
        "    # Si se tienen al menos 2 palabras\n",
        "    for word in words[1:]: # Omitimos la primera del comentario\n",
        "        if re.fullmatch(r'[A-Z][a-z]+', word):\n",
        "            matches.append(word)\n",
        "\n",
        "print(matches[:10])\n",
        "print(f'Total encontrados: {len(matches)}')"
      ]
    },
    {
      "cell_type": "code",
      "execution_count": null,
      "metadata": {
        "id": "dLPTRPnTMqqx"
      },
      "outputs": [],
      "source": []
    },
    {
      "cell_type": "markdown",
      "metadata": {
        "id": "u7nfm4KhMrNW"
      },
      "source": [
        "*   **Pregunta 11.**  \n",
        "\n",
        "Busca e imprime la secuencia de dos o más palabras que están separadas por un guion, \"-\", sin que tengan espacios en blanco entre ellas.\n",
        "\n",
        "Por ejemplo \"Go-Kart\" sería válido, pero \"Go  -Kart\" o \"Go  -  Kart\" no lo serían. \n",
        "\n",
        "Indica la cantidad de resultados obtenidos."
      ]
    },
    {
      "cell_type": "code",
      "execution_count": 58,
      "metadata": {
        "id": "OwU-a7eGMsub"
      },
      "outputs": [
        {
          "name": "stdout",
          "output_type": "stream",
          "text": [
            "['flat-lined', 'hands-down', 'must-stop', 'sub-par', 'Service-check', 'in-house', 'been-stepped', 'in-and', 'tracked-everywhere', 'multi-grain']\n",
            "Total encontrados: 21\n"
          ]
        }
      ],
      "source": [
        "matches = [match for comment in docs for match in re.findall(r'\\b\\w+-\\w+\\b', comment)]\n",
        "print(matches[:10])\n",
        "print(f'Total encontrados: {len(matches)}')"
      ]
    },
    {
      "cell_type": "code",
      "execution_count": null,
      "metadata": {
        "id": "SgzIL74ZMtGw"
      },
      "outputs": [],
      "source": []
    },
    {
      "cell_type": "markdown",
      "metadata": {
        "id": "DEIgl79HMthr"
      },
      "source": [
        "*   **Pregunta 12.**  \n",
        "\n",
        "Busca e imprime todas las palabras que terminan en \"ing\" o \"ed\". \n",
        "\n",
        "Indica la cantidad de palabras que encontraste de cada una."
      ]
    },
    {
      "cell_type": "code",
      "execution_count": 63,
      "metadata": {
        "id": "I4TSofBMMv9y"
      },
      "outputs": [
        {
          "name": "stdout",
          "output_type": "stream",
          "text": [
            "['Loved', 'Stopped', 'during', 'loved', 'getting', 'being', 'ended', 'being', 'overpriced', 'tried']\n",
            "Total encontrados: 614\n"
          ]
        }
      ],
      "source": [
        "matches = [match for comment in docs for match in re.findall(r'\\b\\w+(?:ing|ed)\\b', comment)]\n",
        "print(matches[:10])\n",
        "print(f'Total encontrados: {len(matches)}')"
      ]
    },
    {
      "cell_type": "code",
      "execution_count": null,
      "metadata": {
        "id": "AhGq6De2Mvyh"
      },
      "outputs": [],
      "source": []
    },
    {
      "cell_type": "markdown",
      "metadata": {
        "id": "70StdqAZa9E9"
      },
      "source": [
        "# **Parte 3. Proceso de limpieza.**"
      ]
    },
    {
      "cell_type": "markdown",
      "metadata": {
        "id": "xaDUFXHrMvX2"
      },
      "source": [
        "*   **Pregunta 13.**  \n",
        "\n",
        "Ahora realiza un proceso de limpieza del corpus que incluya los siguientes procesos:\n",
        "\n",
        "*   Solo se deben considerar caracteres alfabéticos. Es decir, se eliminan todos los signos de puntuación y caracteres especiales.\n",
        "*   Todos los caracteres alfabéticos se transforman a minúsculas.\n",
        "*   Se deben eliminar todos los espacios en blanco adicionales que se puedan encontrar en cada comentario.\n",
        "\n",
        "Al finalizar dicho proceso de limpieza, imprime el resultado de los primeros 10 comentarios resultantes. \n",
        "   \n",
        "\n",
        "\n"
      ]
    },
    {
      "cell_type": "code",
      "execution_count": 71,
      "metadata": {
        "id": "K3kQzPOPMx0w"
      },
      "outputs": [
        {
          "name": "stdout",
          "output_type": "stream",
          "text": [
            "['wow loved this place', 'crust is not good', 'not tasty and the texture was just nasty', 'stopped by during the late may bank holiday off rick steve recommendation and loved it', 'the selection on the menu was great and so were the prices', 'now i am getting angry and i want my damn pho', 'honeslty it didnt taste that fresh', 'the potatoes were like rubber and you could tell they had been made up ahead of time being kept under a warmer', 'the fries were great too', 'a great touch']\n"
          ]
        }
      ],
      "source": [
        "clean_docs = []\n",
        "\n",
        "for comment in docs:\n",
        "    # Cambiamos a minúsculas\n",
        "    cleaned = comment.lower()\n",
        "\n",
        "    # Eliminamos signos de puntuación y caracteres especiales (solo letras y espacios)\n",
        "    cleaned = re.sub(r'[^a-z\\s]', '', cleaned)\n",
        "\n",
        "    # Eliminamos espacios adicionales (múltiples espacios → uno solo) y quitamos espacios laterales\n",
        "    cleaned = ' '.join(cleaned.split())\n",
        "\n",
        "    clean_docs.append(cleaned)\n",
        "\n",
        "# Mostramos los primeros 10 comentarios limpios\n",
        "print(clean_docs[:10])"
      ]
    },
    {
      "cell_type": "code",
      "execution_count": null,
      "metadata": {
        "id": "mYEDlHSFMyJN"
      },
      "outputs": [],
      "source": []
    },
    {
      "cell_type": "markdown",
      "metadata": {
        "id": "WZwEhg2lUSAX"
      },
      "source": [
        "*   **Pregunta 14.**  \n",
        "\n",
        "Con el resultado de la limpieza obtenido en la pregunta anterior, realiza ahora un proceso de tokenización por palabras del corpus. \n",
        "\n",
        "Es decir, al final de este proceso de tokenización, debes tener como resultado una lista de listas, donde cada comentario estará tokenizado por palabras.\n",
        "\n",
        "Al terminar calcula el total de tokens obtenido en todo el corpus. "
      ]
    },
    {
      "cell_type": "code",
      "execution_count": 83,
      "metadata": {
        "id": "kbAL9-v0V-jx"
      },
      "outputs": [
        {
          "name": "stdout",
          "output_type": "stream",
          "text": [
            "[['wow', 'loved', 'this', 'place'], ['crust', 'is', 'not', 'good'], ['not', 'tasty', 'and', 'the', 'texture', 'was', 'just', 'nasty']]\n",
            "Total de tokens en el corpus: 10777\n"
          ]
        }
      ],
      "source": [
        "# Tokenizamos cada comentario (por espacios)\n",
        "tokenized_docs = [comment.split() for comment in clean_docs]\n",
        "# Mostramos los primeros 3 ejemplos tokenizados\n",
        "print(tokenized_docs[:3])\n",
        "# Calculamos total de tokens en todo el corpus\n",
        "total_tokens = sum(len(tokens) for tokens in tokenized_docs)\n",
        "print(f\"Total de tokens en el corpus: {total_tokens}\")"
      ]
    },
    {
      "cell_type": "code",
      "execution_count": null,
      "metadata": {
        "id": "DZs_etmiV-fd"
      },
      "outputs": [],
      "source": []
    },
    {
      "cell_type": "markdown",
      "metadata": {
        "id": "EFeu0OJ7WDPD"
      },
      "source": [
        "*   **Pregunta 15.**  \n",
        "\n",
        "Finalmente, en este ejercicio definiremos nuestro conjunto de palabras \"stopwords\", las cuales deberás eliminar de todo el corpus. \n",
        "\n",
        "Recuerda que ejemplos de stopwords son artículos, adverbios, conectivos, etcétera, que tienen frecuencias de aparición muy altas en cualquier documento, pero que no brindan mucho significado en cuanto al significado de un enunciado.\n",
        "\n",
        "Con base a la lista de stopwords que se te proporciona, realiza un proceso de limpieza eliminando todas estas palabras del corpus obtenido en el ejercicio anterior.\n",
        "\n",
        "Obtener cuántos tokens/palabras quedan finalmente en todo el corpus.\n",
        "\n",
        "Obtener cuántos de estos tokens/palabras son diferentes, es decir, cuántos tokens únicos tendrá lo que llamaremos más adelante nuestro vocabulario."
      ]
    },
    {
      "cell_type": "code",
      "execution_count": 84,
      "metadata": {
        "id": "6FP4FF3KXGxm"
      },
      "outputs": [],
      "source": [
        "# Considera la siguiente lista como tu conjunto de stopwords:\n",
        "mis_stopwords = ['i', 'me', 'my', 'myself', 'we', 'our', 'ours', 'ourselves', 'you', 'your', 'yours', 'he', 'him', 'his', 'himself', 'she', 'her', 'hers', 'herself', 'it', 'its', 'itself', 'they', 'them', 'their', 'theirs', 'themselves', 'what', 'which', 'who', 'whom', 'this', 'that', 'these', 'those', 'am', 'is', 'are', 'was', 'were', 'be', 'been', 'being', 'have', 'has', 'had', 'having', 'do', 'does', 'did', 'doing', 'a', 'an', 'the', 'and', 'but', 'if', 'or', 'because', 'as', 'until', 'while', 'of', 'at', 'by', 'for', 'with', 'about', 'against', 'between', 'into', 'through', 'during', 'before', 'after', 'above', 'below', 'to', 'from', 'up', 'down', 'in', 'out', 'on', 'over', 'under', 'again', 'further', 'then', 'once', 'here', 'there', 'when', 'where', 'why', 'how', 'all', 'any', 'both', 'each', 'few', 'more', 'most', 'other', 'some', 'such', 'only', 'own', 'same', 'so', 'than', 'too', 'very', 's', 't', 'can', 'will', 'just', 'should', 'now', 'll']"
      ]
    },
    {
      "cell_type": "code",
      "execution_count": 85,
      "metadata": {
        "id": "CD8yjyq1ZrwY"
      },
      "outputs": [
        {
          "name": "stdout",
          "output_type": "stream",
          "text": [
            "Total de tokens en el corpus: 5776\n",
            "Cantidad de tokens únicos (vocabulario): 1941\n"
          ]
        }
      ],
      "source": [
        "# Eliminación de la stopwords\n",
        "# x = [['wow', 'loved', 'this', 'place'], ['wow', 'loved', 'this', 'place']]\n",
        "tokenized_docs = [[t for t in tokens if t not in mis_stopwords] for tokens in tokenized_docs]\n",
        "# Total de tokens después de eliminar stopwords\n",
        "total_tokens = sum(len(tokens) for tokens in tokenized_docs)\n",
        "print(f\"Total de tokens en el corpus: {total_tokens}\")\n",
        "\n",
        "# Vocabulario (tokens únicos)\n",
        "vocabulario = set(t for tokens in tokenized_docs for t in tokens)\n",
        "print(f\"Cantidad de tokens únicos (vocabulario): {len(vocabulario)}\")"
      ]
    },
    {
      "cell_type": "code",
      "execution_count": null,
      "metadata": {
        "id": "4ZPi5prKZro5"
      },
      "outputs": [],
      "source": []
    },
    {
      "cell_type": "markdown",
      "metadata": {
        "id": "NDbKkuxRbLoX"
      },
      "source": [
        "*   **Comentarios**\n",
        "\n",
        "Incluye finalmente tus comentarios de la actividad."
      ]
    },
    {
      "cell_type": "markdown",
      "metadata": {
        "id": "o7fzbvqVbUGr"
      },
      "source": [
        "Esta actividad me permitió comprender de manera práctica los procesos fundamentales del preprocesamiento de texto en tareas de PLN (Procesamiento de Lenguaje Natural). A lo largo de los ejercicios:\n",
        "\n",
        "- Aprendí a utilizar expresiones regulares para identificar patrones complejos dentro del texto (como palabras en mayúsculas, terminaciones específicas, estructuras con guiones, etc.).\n",
        "- Implementé un proceso completo de limpieza textual, eliminando signos de puntuación, normalizando a minúsculas y controlando espacios.\n",
        "- Realicé la tokenización manual del corpus, observando cómo una cadena de texto se transforma en unidades léxicas (tokens).\n",
        "- Pude identificar la utilidad y el impacto de eliminar las *stopwords* para enfocar el análisis en las palabras con mayor carga semántica.\n",
        "- Además, el conteo total de tokens y vocabulario me permitió tener una visión clara del tamaño real del corpus limpio.\n",
        "\n",
        "Como reflexión final, esta actividad fue muy útil para afianzar conceptos teóricos a través de la práctica, especialmente en lo relacionado con la preparación de datos textuales. Me ayudó a desarrollar un pensamiento más estructurado y detallado sobre cómo abordar y transformar datos no estructurados en información lista para análisis o modelos de lenguaje.\n"
      ]
    },
    {
      "cell_type": "markdown",
      "metadata": {
        "id": "PHaKw_6Ldbaf"
      },
      "source": [
        "##**Fin de la Actividad de la semana 2.**"
      ]
    }
  ],
  "metadata": {
    "colab": {
      "collapsed_sections": [
        "759SG4TyfbUn",
        "Zj-h4drXD-X9",
        "BY6yifxscfrx",
        "k_ewoagic5jc",
        "70StdqAZa9E9"
      ],
      "provenance": []
    },
    "kernelspec": {
      "display_name": "base",
      "language": "python",
      "name": "python3"
    },
    "language_info": {
      "codemirror_mode": {
        "name": "ipython",
        "version": 3
      },
      "file_extension": ".py",
      "mimetype": "text/x-python",
      "name": "python",
      "nbconvert_exporter": "python",
      "pygments_lexer": "ipython3",
      "version": "3.9.7"
    }
  },
  "nbformat": 4,
  "nbformat_minor": 0
}
